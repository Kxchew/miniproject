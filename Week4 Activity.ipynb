{
 "cells": [
  {
   "cell_type": "code",
   "execution_count": 1,
   "id": "b7ab6e1e",
   "metadata": {},
   "outputs": [],
   "source": [
    "import os \n",
    "os.chdir(\"C:\\\\Users\\\\Microsoft\\\\AppData\\\\Local\\\\Programs\\\\Python\\\\Python310\\\\Scripts\\\\imgprocessing\")"
   ]
  },
  {
   "cell_type": "code",
   "execution_count": 2,
   "id": "61afc92b",
   "metadata": {},
   "outputs": [
    {
     "data": {
      "text/plain": [
       "'C:\\\\Users\\\\Microsoft\\\\AppData\\\\Local\\\\Programs\\\\Python\\\\Python310\\\\Scripts\\\\imgprocessing'"
      ]
     },
     "execution_count": 2,
     "metadata": {},
     "output_type": "execute_result"
    }
   ],
   "source": [
    "%pwd"
   ]
  },
  {
   "cell_type": "code",
   "execution_count": 3,
   "id": "089c4d54",
   "metadata": {},
   "outputs": [],
   "source": [
    "from IPython.core.interactiveshell import InteractiveShell\n",
    "InteractiveShell.ast_node_interactivity = \"all\""
   ]
  },
  {
   "cell_type": "code",
   "execution_count": 4,
   "id": "28d6eab8",
   "metadata": {},
   "outputs": [
    {
     "data": {
      "text/plain": [
       "True"
      ]
     },
     "execution_count": 4,
     "metadata": {},
     "output_type": "execute_result"
    }
   ],
   "source": [
    "# setup \n",
    "\n",
    "import sys\n",
    "# Python 3.7 is required\n",
    "assert sys.version_info >= (3,7)\n",
    "\n",
    "import cv2 as cv\n",
    "import numpy as np\n",
    "\n",
    "# For reproducibility,\n",
    "np.random.seed(99)\n",
    "\n",
    "# Make sure that optimization is enabled\n",
    "if not cv.useOptimized():\n",
    "    cv.setUseOptimized(True)\n",
    "\n",
    "cv.useOptimized()"
   ]
  },
  {
   "cell_type": "markdown",
   "id": "c527a6e7",
   "metadata": {},
   "source": [
    "# Q1"
   ]
  },
  {
   "cell_type": "markdown",
   "id": "0b981cec",
   "metadata": {},
   "source": [
    "Suggest two ways and write codes to display two images simultaneously. \n",
    "You can use any image snapped from your handphone, downloaded from internet or images from week 4 materials on MS teams. \n",
    "The two images are a color image and its corresponding grayscale image."
   ]
  },
  {
   "cell_type": "code",
   "execution_count": 5,
   "id": "83733b3f",
   "metadata": {},
   "outputs": [
    {
     "data": {
      "text/plain": [
       "True"
      ]
     },
     "execution_count": 5,
     "metadata": {},
     "output_type": "execute_result"
    },
    {
     "data": {
      "text/plain": [
       "-1"
      ]
     },
     "execution_count": 5,
     "metadata": {},
     "output_type": "execute_result"
    }
   ],
   "source": [
    "img = cv.imread('soccer.jpg')\n",
    "new_image = cv.resize(img, (300, 450), interpolation = cv.INTER_LINEAR) #width:300, height:450\n",
    "cv.imwrite('new_soccer.jpg', new_image)\n",
    "\n",
    "\n",
    "#first method: call cv.imshow() multiple times \n",
    "\n",
    "image = cv.imread('new_soccer.jpg')\n",
    "grayscale_img = cv.imread('new_soccer.jpg', 0) \n",
    "\n",
    "cv.imshow('color image', image)\n",
    "cv.imshow('grayscale image', grayscale_img)\n",
    "cv.waitKey(0) \n",
    "cv.destroyAllWindows()"
   ]
  },
  {
   "cell_type": "code",
   "execution_count": 6,
   "id": "c20cd0f8",
   "metadata": {},
   "outputs": [
    {
     "data": {
      "text/plain": [
       "-1"
      ]
     },
     "execution_count": 6,
     "metadata": {},
     "output_type": "execute_result"
    }
   ],
   "source": [
    "#second method: concatenate method \n",
    "\n",
    "color_image = cv.imread('new_soccer.jpg') \n",
    "gray = cv.imread('new_soccer.jpg', 0) \n",
    "grayscale_image = cv.cvtColor(gray, cv.COLOR_GRAY2BGR)   #preserve gray img but in BGR color space so it also has 3 dimensions\n",
    "\n",
    "horizontal_img = np.concatenate((color_image, grayscale_image), axis=1)      #np.hstack((color_image, grayscale_image))\n",
    "cv.imshow('Soccer Image', horizontal_img)\n",
    "cv.waitKey(0)\n",
    "cv.destroyAllWindows()"
   ]
  },
  {
   "cell_type": "markdown",
   "id": "93c7d72f",
   "metadata": {},
   "source": [
    "# Q2"
   ]
  },
  {
   "cell_type": "markdown",
   "id": "0c8b7d96",
   "metadata": {},
   "source": [
    "Load the video “img_pexels.mp4” into the Python environment and display the videos with smaller frames. You can specify an arbitrary frame rate. Save it as a separate files: “smaller_img_pexels.avi”"
   ]
  },
  {
   "cell_type": "code",
   "execution_count": 20,
   "id": "0abc70a3",
   "metadata": {},
   "outputs": [],
   "source": [
    "cap = cv.VideoCapture('img_pexels.mp4')\n",
    "\n",
    "#cv.VideoWriter(filename, fourcc, fps, framesize, isColor)\n",
    "fourcc = cv.VideoWriter_fourcc('M', 'J', 'P', 'G')\n",
    "fps = 20\n",
    "width  = int(cap.get(cv.CAP_PROP_FRAME_WIDTH)*0.25)\n",
    "height = int(cap.get(cv.CAP_PROP_FRAME_HEIGHT)*0.25)\n",
    "out = cv.VideoWriter('smaller_img_pexels.avi', fourcc, fps, (width,height))\n",
    "\n",
    "if not cap.isOpened():\n",
    "    print(\"Unable to create video\")\n",
    "\n",
    "# Read until the video is completed.\n",
    "while cap.isOpened():\n",
    "    ret, frame = cap.read()\n",
    "    \n",
    "    # if frame is read then ret is True\n",
    "    if not ret:\n",
    "        print(\"Can't receive frame.\")\n",
    "        break\n",
    "       \n",
    "    frame = cv.resize(frame, None, fx = 0.25, fy = 0.25, interpolation = cv.INTER_LINEAR)  #resizing\n",
    "    \n",
    "    cv.imshow('frame', frame)\n",
    "    out.write(frame)  #save new video \n",
    "    \n",
    "    if cv.waitKey(50)& 0xFF == 27:\n",
    "        break\n",
    "        \n",
    "\n",
    "cap.release()\n",
    "out.release()\n",
    "cv.destroyAllWindows()"
   ]
  },
  {
   "cell_type": "markdown",
   "id": "4e2f9f82",
   "metadata": {},
   "source": [
    "# Q3"
   ]
  },
  {
   "cell_type": "markdown",
   "id": "348803c5",
   "metadata": {},
   "source": [
    "Create a random noise color and grayscale image. You can set a custom width and height. "
   ]
  },
  {
   "cell_type": "code",
   "execution_count": 21,
   "id": "aeae839c",
   "metadata": {},
   "outputs": [
    {
     "data": {
      "text/plain": [
       "-1"
      ]
     },
     "execution_count": 21,
     "metadata": {},
     "output_type": "execute_result"
    }
   ],
   "source": [
    "import random\n",
    "\n",
    "noise_img = np.random.randint(0, 200, (300,300), dtype = np.uint8)\n",
    "cv.imshow('noise image',noise_img)\n",
    "cv.waitKey(0)\n",
    "cv.destroyAllWindows()"
   ]
  },
  {
   "cell_type": "code",
   "execution_count": null,
   "id": "0e768367",
   "metadata": {},
   "outputs": [],
   "source": []
  }
 ],
 "metadata": {
  "kernelspec": {
   "display_name": "Python 3 (ipykernel)",
   "language": "python",
   "name": "python3"
  },
  "language_info": {
   "codemirror_mode": {
    "name": "ipython",
    "version": 3
   },
   "file_extension": ".py",
   "mimetype": "text/x-python",
   "name": "python",
   "nbconvert_exporter": "python",
   "pygments_lexer": "ipython3",
   "version": "3.10.5"
  }
 },
 "nbformat": 4,
 "nbformat_minor": 5
}
