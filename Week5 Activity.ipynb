{
 "cells": [
  {
   "cell_type": "code",
   "execution_count": 1,
   "id": "26471397",
   "metadata": {},
   "outputs": [],
   "source": [
    "import os \n",
    "os.chdir(\"C:\\\\Users\\\\Microsoft\\\\AppData\\\\Local\\\\Programs\\\\Python\\\\Python310\\\\Scripts\\\\w5_img\")"
   ]
  },
  {
   "cell_type": "code",
   "execution_count": 2,
   "id": "022ee99a",
   "metadata": {},
   "outputs": [
    {
     "data": {
      "text/plain": [
       "'C:\\\\Users\\\\Microsoft\\\\AppData\\\\Local\\\\Programs\\\\Python\\\\Python310\\\\Scripts\\\\w5_img'"
      ]
     },
     "execution_count": 2,
     "metadata": {},
     "output_type": "execute_result"
    }
   ],
   "source": [
    "%pwd"
   ]
  },
  {
   "cell_type": "code",
   "execution_count": 3,
   "id": "787b33cb",
   "metadata": {},
   "outputs": [
    {
     "data": {
      "text/plain": [
       "True"
      ]
     },
     "execution_count": 3,
     "metadata": {},
     "output_type": "execute_result"
    }
   ],
   "source": [
    "# setup \n",
    "\n",
    "import sys\n",
    "# Python 3.7 is required\n",
    "assert sys.version_info >= (3,7)\n",
    "\n",
    "import cv2 as cv\n",
    "import numpy as np\n",
    "\n",
    "# For reproducibility,\n",
    "np.random.seed(99)\n",
    "\n",
    "# Make sure that optimization is enabled\n",
    "if not cv.useOptimized():\n",
    "    cv.setUseOptimized(True)\n",
    "\n",
    "cv.useOptimized()"
   ]
  },
  {
   "cell_type": "code",
   "execution_count": 4,
   "id": "8b9e56ff",
   "metadata": {},
   "outputs": [],
   "source": [
    "import matplotlib.pyplot as plt"
   ]
  },
  {
   "cell_type": "markdown",
   "id": "cfb463b3",
   "metadata": {},
   "source": [
    "# Q1"
   ]
  },
  {
   "cell_type": "markdown",
   "id": "a2fc0111",
   "metadata": {},
   "source": [
    "Convert the code chunk found under section Divide an image into smaller patches using cropping into a function with the following signature:\n",
    "crop_grid(img, num_horizontal_grid, num_vertical_grid, line_color).\n",
    "The output of the function should be image with grids."
   ]
  },
  {
   "cell_type": "code",
   "execution_count": 5,
   "id": "b9e44772",
   "metadata": {},
   "outputs": [],
   "source": [
    "def crop_grid(img, num_horizontal_grid, num_vertical_grid, line_color):\n",
    "    src = cv.imread(img)\n",
    "    src_copy = src.copy()\n",
    "    \n",
    "    height, width = src.shape[:2]\n",
    "    num_hpatches = num_horizontal_grid \n",
    "    num_vpatches = num_vertical_grid \n",
    "    \n",
    "    M, N = int(height/num_hpatches), int(width/num_vpatches)\n",
    "    x1, y1 = 0, 0\n",
    "    \n",
    "    for y in range(0, height, M):\n",
    "        for x in range(0, width, N):\n",
    "            y1 = y + M \n",
    "            x1 = x + N\n",
    "            \n",
    "            if x1 >= width and y1 >= height:\n",
    "                x1 = width - 1\n",
    "                y1 = height - 1\n",
    "                cv.rectangle(src_copy, (x, y), (x1, y1), line_color, 1)\n",
    "                \n",
    "            elif y1 >= height:\n",
    "                y1 = height - 1\n",
    "                cv.rectangle(src_copy, (x, y), (x1, y1), line_color, 1)\n",
    "            \n",
    "            elif x1 >= width:\n",
    "                x1 = width - 1\n",
    "                cv.rectangle(src_copy, (x, y), (x1, y1), line_color, 1)\n",
    "        \n",
    "            else:\n",
    "                cv.rectangle(src_copy, (x, y), (x1, y1), line_color, 1)\n",
    "                \n",
    "    return src_copy\n",
    "\n",
    "\n",
    "cv.imshow('patched image', crop_grid('dog.jfif', 3, 3, (0, 255, 255)))\n",
    "cv.waitKey(0)\n",
    "cv.destroyAllWindows()"
   ]
  },
  {
   "cell_type": "markdown",
   "id": "1239080d",
   "metadata": {},
   "source": [
    "# Q2"
   ]
  },
  {
   "cell_type": "markdown",
   "id": "16d6aebc",
   "metadata": {},
   "source": [
    "Display image sequences of smooth transition of two images with different values of α. Refer to code in section \"Image blending\". Use \"lena.jfif\" and \"coins.jfif\" as the base images."
   ]
  },
  {
   "cell_type": "code",
   "execution_count": 6,
   "id": "05d75870",
   "metadata": {},
   "outputs": [],
   "source": [
    "img1 = cv.imread('lena.jfif')\n",
    "img2 = cv.imread('coins.jfif')\n",
    "\n",
    "# Resize img2\n",
    "new_shape = img1.shape[:2]\n",
    "img2 = cv.resize(img2, new_shape)\n",
    "\n",
    "#define\n",
    "for i in np.linspace(0,1,5):  #generate array with 5 num within the range\n",
    "    alpha = i\n",
    "    beta = 1 - alpha\n",
    "    dst = cv.addWeighted(img1, alpha, img2, beta, 0)\n",
    "    cv.imshow('Transition_img', dst)\n",
    "    cv.waitKey(0)\n",
    "    cv.destroyAllWindows()"
   ]
  },
  {
   "cell_type": "markdown",
   "id": "d66bf071",
   "metadata": {},
   "source": [
    "# Q3"
   ]
  },
  {
   "cell_type": "markdown",
   "id": "5fad29d1",
   "metadata": {},
   "source": [
    "Rotate image by 45 degrees without cropping the sides of the image. (Hint: There are 2 strategies to tackle these problems). Use \"lena.jfif\" as the input image."
   ]
  },
  {
   "cell_type": "code",
   "execution_count": 7,
   "id": "fd941759",
   "metadata": {},
   "outputs": [],
   "source": [
    "#First method: Use external libraries imutils\n",
    "\n",
    "import imutils\n",
    "\n",
    "img = cv.imread('lena.jfif')\n",
    "rotated_img = imutils.rotate_bound(img, -45)\n",
    "cv.imshow('rotatedimg', rotated_img)\n",
    "cv.waitKey(0)\n",
    "cv.destroyAllWindows()"
   ]
  },
  {
   "cell_type": "code",
   "execution_count": 8,
   "id": "27cdb18c",
   "metadata": {},
   "outputs": [],
   "source": [
    "#Second method: Modify the transformation matrix\n",
    "\n",
    "img = cv.imread('lena.jfif')\n",
    "h, w = img.shape[:2]  #cols:width, rows:height\n",
    "\n",
    "M = cv.getRotationMatrix2D(((w-1)/2.0, (h-1)/2.0), 45, 1)\n",
    "\n",
    "#take sin and cos value from M, use np absolute function for +ve value\n",
    "cosofM = np.abs(M[0][0])\n",
    "sinofM = np.abs(M[0][1])\n",
    "  \n",
    "#calculate new height and width of img to prevent cropping img sides \n",
    "newH = int((h * sinofM) + (w * cosofM))\n",
    "newW = int((h * cosofM) + (w * sinofM))\n",
    "  \n",
    "#update the values of M\n",
    "M[0][2] += (newW/2) - ((w-1)/2.0)\n",
    "M[1][2] += (newH/2) - ((h-1)/2.0)\n",
    "  \n",
    "\n",
    "dst = cv.warpAffine(img, M, (newW, newH)) \n",
    "\n",
    "cv.imshow('rotated_image', dst)\n",
    "cv.waitKey(0)\n",
    "cv.destroyAllWindows()"
   ]
  },
  {
   "cell_type": "markdown",
   "id": "2ddb2d76",
   "metadata": {},
   "source": [
    "# Q4"
   ]
  },
  {
   "cell_type": "markdown",
   "id": "0811e085",
   "metadata": {},
   "source": [
    "Use the images with titles: \"flower.jfif\" and \"native-bee.png\". I want to put flower above an image. If I add two images, it will change color. If I blend it, I get a transparent effect. But I want it to be opaque. If it was a rectangular region, we could use the ROI as we did in the previous section. But flower is not a rectangular region.This is where bitwise operations, like AND, OR, NOT and XOR really come in handy. The associated functions are cv.bitwise_and(), cv.bitwise_or() and cv.bitwise_not(). You need to use cv.threshold function to segment the flower"
   ]
  },
  {
   "cell_type": "code",
   "execution_count": 9,
   "id": "724f2515",
   "metadata": {},
   "outputs": [],
   "source": [
    "img1 = cv.imread('flower.jfif')\n",
    "img2 = cv.imread('native-bee.png')\n",
    "flower_grayscale = cv.cvtColor(img1,cv.COLOR_BGR2GRAY)\n",
    "\n",
    "rows, columns, channels = img1.shape\n",
    "roi = img2[0:rows, 0:columns] #determine roi\n",
    "\n",
    "T, threshInv = cv.threshold(flower_grayscale, 100, 255, cv.THRESH_BINARY_INV) #threshold\n",
    "img2_roi = cv.bitwise_and(roi, roi, mask=threshInv)\n",
    "thresh_inv = cv.bitwise_not(threshInv)\n",
    "flower = cv.bitwise_and(img1, img1, mask=thresh_inv)\n",
    "\n",
    "flower_bee = cv.add(flower, img2_roi) #combine\n",
    "img2[0:rows, 0:columns] = flower_bee  #replace into img2\n",
    "\n",
    "cv.imshow('flower_bee', img2)\n",
    "cv.waitKey(0)\n",
    "cv.destroyAllWindows()"
   ]
  },
  {
   "cell_type": "code",
   "execution_count": null,
   "id": "eeeccaeb",
   "metadata": {},
   "outputs": [],
   "source": []
  }
 ],
 "metadata": {
  "kernelspec": {
   "display_name": "Python 3 (ipykernel)",
   "language": "python",
   "name": "python3"
  },
  "language_info": {
   "codemirror_mode": {
    "name": "ipython",
    "version": 3
   },
   "file_extension": ".py",
   "mimetype": "text/x-python",
   "name": "python",
   "nbconvert_exporter": "python",
   "pygments_lexer": "ipython3",
   "version": "3.10.5"
  }
 },
 "nbformat": 4,
 "nbformat_minor": 5
}
