{
 "cells": [
  {
   "cell_type": "code",
   "execution_count": 1,
   "id": "8ff57cb4",
   "metadata": {},
   "outputs": [],
   "source": [
    "import os \n",
    "os.chdir(\"C:\\\\Users\\\\Microsoft\\\\AppData\\\\Local\\\\Programs\\\\Python\\\\Python310\\\\Scripts\\\\w6_img\")"
   ]
  },
  {
   "cell_type": "code",
   "execution_count": 2,
   "id": "831224f9",
   "metadata": {},
   "outputs": [
    {
     "data": {
      "text/plain": [
       "True"
      ]
     },
     "execution_count": 2,
     "metadata": {},
     "output_type": "execute_result"
    }
   ],
   "source": [
    "# setup \n",
    "\n",
    "import sys\n",
    "# Python 3.7 is required\n",
    "assert sys.version_info >= (3,7)\n",
    "\n",
    "import cv2 as cv\n",
    "import numpy as np\n",
    "import matplotlib.pyplot as plt\n",
    "\n",
    "# For reproducibility,\n",
    "np.random.seed(99)\n",
    "\n",
    "# Make sure that optimization is enabled\n",
    "if not cv.useOptimized():\n",
    "    cv.setUseOptimized(True)\n",
    "\n",
    "cv.useOptimized()"
   ]
  },
  {
   "cell_type": "markdown",
   "id": "9777d2f2",
   "metadata": {},
   "source": [
    "# Q1"
   ]
  },
  {
   "cell_type": "markdown",
   "id": "678c119a",
   "metadata": {},
   "source": [
    "Apply histogram equalization on a histogram equalized image. In other words, apply histogram equalization twice on an image. Is there any difference between the first and second output image? You are free to use any image."
   ]
  },
  {
   "cell_type": "code",
   "execution_count": 3,
   "id": "d859ded2",
   "metadata": {},
   "outputs": [],
   "source": [
    "img = cv.imread('dog1.jfif', 0)\n",
    "                \n",
    "#histogram equalization\n",
    "equ1 = cv.equalizeHist(img)\n",
    "equ2 = cv.equalizeHist(equ1)\n",
    "\n",
    "cv.imshow('output', np.hstack((img, equ1, equ2)))\n",
    "cv.waitKey(0)\n",
    "cv.destroyAllWindows()"
   ]
  },
  {
   "cell_type": "markdown",
   "id": "d985df65",
   "metadata": {},
   "source": [
    "Q1: There is no difference between first and second output."
   ]
  },
  {
   "cell_type": "markdown",
   "id": "c06f1880",
   "metadata": {},
   "source": [
    "# Q2"
   ]
  },
  {
   "cell_type": "markdown",
   "id": "fdec544c",
   "metadata": {},
   "source": [
    "Load the image 'electronic.jfif'. Then,\n",
    "Experiment with different kernel size. Which kernel size is the most appropriate?\n",
    "Perform edge detection using Sobel operator (combined both x and y) with and without image smoothing (Gaussian blurring). Display the 2 images.\n",
    "Try Laplacian of Gaussian\n",
    "\n",
    "Based on the exercise conducted from (A) - (C), which image processing pathway is optimal? Justify your answer."
   ]
  },
  {
   "cell_type": "code",
   "execution_count": 4,
   "id": "c567ff08",
   "metadata": {},
   "outputs": [],
   "source": [
    "img = cv.imread('electronic.jfif', 0) \n",
    "img2 = img.copy() \n",
    "\n",
    "sobelx = cv.Sobel(img, cv.CV_64F, 1, 0, ksize = 1) #kernel size = 1\n",
    "sobely = cv.Sobel(img, cv.CV_64F, 0, 1, ksize = 1)\n",
    "sobelx2 = cv.Sobel(img2, cv.CV_64F, 1, 0, ksize = 3) #kernel size = 3\n",
    "sobely2 = cv.Sobel(img2, cv.CV_64F, 0, 1, ksize = 3)\n",
    "sobelx3 = cv.Sobel(img2, cv.CV_64F, 1, 0, ksize = 5) #kernel size = 5\n",
    "sobely3 = cv.Sobel(img2, cv.CV_64F, 0, 1, ksize = 5)\n",
    "\n",
    "# L2-norm formula\n",
    "grad_mag = cv.magnitude(sobelx, sobely)\n",
    "grad_mag = cv.convertScaleAbs(grad_mag)\n",
    "grad_mag2 = cv.magnitude(sobelx2, sobely2)\n",
    "grad_mag2 = cv.convertScaleAbs(grad_mag2)\n",
    "grad_mag3 = cv.magnitude(sobelx3, sobely3)\n",
    "grad_mag3 = cv.convertScaleAbs(grad_mag3)\n",
    "\n",
    "cv.imshow('result', np.hstack((img, grad_mag, grad_mag2, grad_mag3)))\n",
    "cv.waitKey(0)\n",
    "cv.destroyAllWindows()"
   ]
  },
  {
   "cell_type": "markdown",
   "id": "5597f4e0",
   "metadata": {},
   "source": [
    "Kernel size = 1 is the most appropriate."
   ]
  },
  {
   "cell_type": "code",
   "execution_count": 5,
   "id": "6c891fac",
   "metadata": {},
   "outputs": [],
   "source": [
    "#Gaussian blurring\n",
    "img_blur = cv.GaussianBlur(img, (5,5), 0)\n",
    "\n",
    "sobelx = cv.Sobel(img_blur, cv.CV_64F, 1, 0, ksize = 1)\n",
    "sobely = cv.Sobel(img_blur, cv.CV_64F, 0, 1, ksize = 1)\n",
    "\n",
    "img_blur_grad_mag = cv.magnitude(sobelx,sobely)\n",
    "img_blur_grad_mag = cv.convertScaleAbs(img_blur_grad_mag)\n",
    "\n",
    "cv.imshow('result', np.hstack((grad_mag, img_blur_grad_mag)))\n",
    "cv.waitKey(0)\n",
    "cv.destroyAllWindows()"
   ]
  },
  {
   "cell_type": "code",
   "execution_count": 6,
   "id": "e3169cdb",
   "metadata": {},
   "outputs": [],
   "source": [
    "#Laplacian of Gaussian\n",
    "im_blur = cv.GaussianBlur(img, (5,5), 0)\n",
    "laplacian = cv.Laplacian(im_blur,cv.CV_64F, ksize = 3)\n",
    "laplacian_8u = cv.convertScaleAbs(laplacian)\n",
    "\n",
    "cv.imshow('result', np.hstack((grad_mag, img_blur_grad_mag, laplacian_8u)))\n",
    "cv.waitKey(0)\n",
    "cv.destroyAllWindows()"
   ]
  },
  {
   "cell_type": "markdown",
   "id": "0d7b2bad",
   "metadata": {},
   "source": [
    "Q2: Using Sobel operator with Gaussian blurring is optimal for the image processing pathway as the noise from the image shown is reduced and the edge of image is obvious. "
   ]
  },
  {
   "cell_type": "markdown",
   "id": "50ebd45c",
   "metadata": {},
   "source": [
    "# Q3"
   ]
  },
  {
   "cell_type": "markdown",
   "id": "a5d92772",
   "metadata": {},
   "source": [
    "Experiment with different edge detectors: Sobel, Laplacian, Prewitt, Scharr derivatives and Canny operators (all with aperture size of 3) on image named 'pineapple.jfif'. Comment on the results."
   ]
  },
  {
   "cell_type": "code",
   "execution_count": 7,
   "id": "3eb34183",
   "metadata": {},
   "outputs": [],
   "source": [
    "img = cv.imread('pineapple.jfif', 0)\n",
    "img_blur = cv.GaussianBlur(img, (5,5), 0) #gaussian blurring \n",
    "\n",
    "#Sobel\n",
    "sobelx = cv.Sobel(img_blur, cv.CV_64F, 1, 0, ksize = 3) #kernel size = 3\n",
    "sobely = cv.Sobel(img_blur, cv.CV_64F, 0, 1, ksize = 3)\n",
    "grad_mag = cv.magnitude(sobelx,sobely)\n",
    "grad_mag = cv.convertScaleAbs(grad_mag)\n",
    "\n",
    "\n",
    "#Laplacian\n",
    "laplacian = cv.Laplacian(img_blur, cv.CV_64F, ksize = 3)\n",
    "laplacian = cv.convertScaleAbs(laplacian)\n",
    "\n",
    "\n",
    "#Prewitt operator\n",
    "#Horizontal edges or along the x-axis, Vertical Edges or along the y-axis\n",
    "kernelx = np.array([[1,1,1],[0,0,0],[-1,-1,-1]])\n",
    "kernely = np.array([[-1,0,1],[-1,0,1],[-1,0,1]]) \n",
    "img_prewittx = cv.filter2D(img_blur, -1, kernelx)\n",
    "img_prewitty = cv.filter2D(img_blur, -1, kernely)\n",
    "img_prewitt = (img_prewittx + img_prewitty) #combine\n",
    "\n",
    "\n",
    "#Scharr operator\n",
    "#identify and highlight gradient edges/features using the first derivative\n",
    "scharr_X = cv.Scharr(img_blur, cv.CV_64F, 1, 0) \n",
    "scharr_X_abs = np.uint8(np.absolute(scharr_X)) \n",
    "scharr_Y = cv.Scharr(img_blur, cv.CV_64F, 0, 1) \n",
    "scharr_Y_abs = np.uint8(np.absolute(scharr_Y)) \n",
    "img_scharr = cv.bitwise_or(scharr_Y_abs,scharr_X_abs) \n",
    "\n",
    "\n",
    "#Canny operators\n",
    "img_canny = cv.Canny(img_blur, 100, 200)\n",
    "\n",
    "\n",
    "cv.imshow('Sobel/Laplacian/Prewitt/Scharr/Canny', np.hstack((grad_mag, laplacian, img_prewitt, img_scharr, img_canny)))\n",
    "cv.waitKey(0)\n",
    "cv.destroyAllWindows()"
   ]
  },
  {
   "cell_type": "markdown",
   "id": "261e7877",
   "metadata": {},
   "source": [
    "Q3: The best and clearest edge detected is by using canny operator, followed by sobel operator. Prewitt operator detect blurry edges, Laplacian operator detect edge but not very obvious and Scharr edge detection is quite messy and includes noise. "
   ]
  },
  {
   "cell_type": "markdown",
   "id": "c3c1dc64",
   "metadata": {},
   "source": [
    "# Q4"
   ]
  },
  {
   "cell_type": "markdown",
   "id": "14241bdd",
   "metadata": {},
   "source": [
    "Write a program to identify the white object (probably laptop) present in the image 'electronic.jfif'. Draw bounding boxes on the objects."
   ]
  },
  {
   "cell_type": "code",
   "execution_count": 8,
   "id": "62a9ed74",
   "metadata": {},
   "outputs": [],
   "source": [
    "img = cv.imread('electronic.jfif', 0)\n",
    "\n",
    "img = cv.GaussianBlur(img, (5,5), 0)\n",
    "ret, th = cv.threshold(img, 180, 255, cv.THRESH_BINARY)\n",
    "\n",
    "contours, hierarchy = cv.findContours(th, cv.RETR_TREE, cv.CHAIN_APPROX_SIMPLE)\n",
    "\n",
    "for i in contours:\n",
    "    area = cv.contourArea(i)\n",
    "    if area >= 1000:\n",
    "        cnt = i\n",
    "        x, y, w, h = cv.boundingRect(cnt)\n",
    "        cv.rectangle(img, (x,y), (x+w, y+h), (0, 255, 255), 2)\n",
    "    else:\n",
    "        continue\n",
    "\n",
    "img_bgr = cv.cvtColor(img, cv.COLOR_GRAY2BGR)\n",
    "cv.imshow('result', img_bgr)\n",
    "cv.waitKey(0)\n",
    "cv.destroyAllWindows()"
   ]
  },
  {
   "cell_type": "code",
   "execution_count": null,
   "id": "3a45e5e8",
   "metadata": {},
   "outputs": [],
   "source": []
  }
 ],
 "metadata": {
  "kernelspec": {
   "display_name": "Python 3 (ipykernel)",
   "language": "python",
   "name": "python3"
  },
  "language_info": {
   "codemirror_mode": {
    "name": "ipython",
    "version": 3
   },
   "file_extension": ".py",
   "mimetype": "text/x-python",
   "name": "python",
   "nbconvert_exporter": "python",
   "pygments_lexer": "ipython3",
   "version": "3.10.5"
  }
 },
 "nbformat": 4,
 "nbformat_minor": 5
}
